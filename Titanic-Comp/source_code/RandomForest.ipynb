{
 "cells": [
  {
   "cell_type": "code",
   "execution_count": 1,
   "metadata": {},
   "outputs": [],
   "source": [
    "import numpy as np\n",
    "import pandas as pd\n",
    "import sklearn as sk\n",
    "import matplotlib.pyplot as pyplot\n",
    "from sklearn.model_selection import train_test_split\n",
    "from sklearn.ensemble import RandomForestClassifier\n",
    "from sklearn import preprocessing"
   ]
  },
  {
   "cell_type": "code",
   "execution_count": 2,
   "metadata": {},
   "outputs": [
    {
     "name": "stdout",
     "output_type": "stream",
     "text": [
      "Dropping unique traits: ==>\n",
      "\n",
      "   Survived    Pclass  Sex   Age  SibSp  Parch      Fare  Embarked\n",
      "0         0  0.827377    1  22.0      1      0 -0.502445  0.587966\n",
      "1         1 -1.566107    0  38.0      1      0  0.786845 -1.912644\n",
      "2         1  0.827377    0  26.0      0      0 -0.488854  0.587966\n",
      "3         1 -1.566107    0  35.0      1      0  0.420730  0.587966\n",
      "4         0  0.827377    1  35.0      0      0 -0.486337  0.587966\n"
     ]
    }
   ],
   "source": [
    "\n",
    "train_data = pd.read_csv(r'..\\csv_data\\train.csv')\n",
    "test_data = pd.read_csv(r'..\\csv_data\\test.csv')\n",
    "\n",
    "# train_data.fillna(0)\n",
    "\n",
    "# train_data[['Cabin']].replace('NAN', '0', inplace=True)\n",
    "\n",
    "train_data['Embarked'] = train_data['Embarked'].replace(np.nan, \"0\")\n",
    "\n",
    "print(\"Dropping unique traits: ==>\\n\")\n",
    "train_data = train_data.drop(['Cabin', 'Name', 'PassengerId', 'Ticket'], axis=1)\n",
    "\n",
    "\n",
    "encoder = preprocessing.LabelEncoder()\n",
    "\n",
    "sex = (encoder.fit_transform(np.ravel(train_data[['Sex']])))\n",
    "embarked = preprocessing.scale(encoder.fit_transform(np.ravel(train_data[['Embarked']])))\n",
    "fare = preprocessing.scale(np.ravel(train_data[['Fare']]))\n",
    "train_data['Sex'] = sex\n",
    "train_data['Embarked'] = embarked\n",
    "train_data['Fare'] = fare\n",
    "train_data['Pclass'] = preprocessing.scale(np.ravel(train_data[['Pclass']]))\n",
    "\n",
    "print(train_data.head())"
   ]
  },
  {
   "cell_type": "code",
   "execution_count": 3,
   "metadata": {},
   "outputs": [
    {
     "name": "stdout",
     "output_type": "stream",
     "text": [
      "Correlation\n",
      "Survived vs Survived:  1.0\n",
      "Survived vs Pclass:  -0.3384810359610146\n",
      "Survived vs Sex:  -0.543351380657755\n",
      "Survived vs Age:  -0.07722109457217764\n",
      "Survived vs SibSp:  -0.03532249888573559\n",
      "Survived vs Parch:  0.08162940708348365\n",
      "Survived vs Fare:  0.2573065223849623\n",
      "Survived vs Embarked:  -0.1765092251688823\n",
      "New ==> \n",
      "\n",
      "   Survived    Pclass  Sex      Fare  Embarked\n",
      "0         0  0.827377    1 -0.502445  0.587966\n",
      "1         1 -1.566107    0  0.786845 -1.912644\n",
      "2         1  0.827377    0 -0.488854  0.587966\n",
      "3         1 -1.566107    0  0.420730  0.587966\n",
      "4         0  0.827377    1 -0.486337  0.587966\n",
      "     Pclass  Sex      Fare  Embarked\n",
      "0  0.827377    1 -0.502445  0.587966\n",
      "1 -1.566107    0  0.786845 -1.912644\n",
      "2  0.827377    0 -0.488854  0.587966\n",
      "3 -1.566107    0  0.420730  0.587966\n",
      "4  0.827377    1 -0.486337  0.587966\n",
      "   Survived\n",
      "0         0\n",
      "1         1\n",
      "2         1\n",
      "3         1\n",
      "4         0\n"
     ]
    }
   ],
   "source": [
    "print(\"Correlation\")\n",
    "for i in train_data.columns:\n",
    "    print(f\"Survived vs {i}: \", pd.Series.corr(train_data['Survived'], train_data[i]))\n",
    "\n",
    "\n",
    "train_data = train_data[['Survived', 'Pclass', 'Sex', 'Fare', 'Embarked']]\n",
    "\n",
    "print(\"New ==> \\n\")\n",
    "\n",
    "print(train_data.head())\n",
    "\n",
    "predict = \"Survived\"\n",
    "X = train_data.drop([predict], axis=1)\n",
    "y = train_data[[predict]]\n",
    "\n",
    "print(X.head())\n",
    "print(y.head())"
   ]
  },
  {
   "cell_type": "code",
   "execution_count": 4,
   "metadata": {},
   "outputs": [
    {
     "name": "stdout",
     "output_type": "stream",
     "text": [
      "Accuracy score: 0.7985074626865671\n"
     ]
    }
   ],
   "source": [
    "\n",
    "train_X, test_X, train_y, test_y = train_test_split(X, y, test_size=0.15)\n",
    "\n",
    "model = RandomForestClassifier(bootstrap=True)\n",
    "\n",
    "model.fit(train_X, np.ravel(train_y))\n",
    "\n",
    "predictions = model.predict(test_X)\n",
    "\n",
    "# for index, prediction in enumerate(predictions):\n",
    "#     print(prediction, np.ravel(train_y)[index])\n",
    "\n",
    "print(\"Accuracy score:\", model.score(test_X, test_y))\n"
   ]
  },
  {
   "cell_type": "code",
   "execution_count": 5,
   "metadata": {},
   "outputs": [
    {
     "name": "stdout",
     "output_type": "stream",
     "text": [
      "Dropping unique traits: ==>\n",
      "\n",
      "       Pclass  Sex      Fare  Embarked\n",
      "0    0.873482    1 -0.496637 -0.470915\n",
      "1    0.873482    0 -0.511497  0.700767\n",
      "2   -0.315819    1 -0.463335 -0.470915\n",
      "3    0.873482    1 -0.481704  0.700767\n",
      "4    0.873482    0 -0.416740  0.700767\n",
      "..        ...  ...       ...       ...\n",
      "413  0.873482    1 -0.492680  0.700767\n",
      "414 -1.505120    0  1.314641 -1.642598\n",
      "415  0.873482    1 -0.507017  0.700767\n",
      "416  0.873482    1 -0.492680  0.700767\n",
      "417  0.873482    1 -0.236263 -1.642598\n",
      "\n",
      "[418 rows x 4 columns]\n"
     ]
    }
   ],
   "source": [
    "test_data['Embarked'] = test_data['Embarked'].replace(np.nan, \"0\")\n",
    "test_data['Pclass'] = test_data['Pclass'].replace(np.nan, \"0\")\n",
    "test_data['Sex'] = test_data['Sex'].replace(np.nan, \"0\")\n",
    "test_data['Fare'] = test_data['Fare'].replace(np.nan, \"0\")\n",
    "\n",
    "print(\"Dropping unique traits: ==>\\n\")\n",
    "\n",
    "test_data = test_data.drop(['Cabin', 'Name', 'PassengerId', 'Ticket'], axis=1)\n",
    "\n",
    "\n",
    "encoder = preprocessing.LabelEncoder()\n",
    "\n",
    "sex = (encoder.fit_transform(np.ravel(test_data[['Sex']])))\n",
    "embarked = preprocessing.scale(encoder.fit_transform(np.ravel(test_data[['Embarked']])))\n",
    "fare = preprocessing.scale(np.ravel(test_data[['Fare']]))\n",
    "test_data['Sex'] = sex\n",
    "test_data['Embarked'] = embarked\n",
    "test_data['Fare'] = fare\n",
    "test_data['Pclass'] = preprocessing.scale(np.ravel(test_data[['Pclass']]))\n",
    "test_data = test_data[['Pclass', 'Sex', 'Fare', 'Embarked']]\n",
    "\n",
    "print(test_data)"
   ]
  },
  {
   "cell_type": "code",
   "execution_count": 7,
   "metadata": {},
   "outputs": [
    {
     "name": "stdout",
     "output_type": "stream",
     "text": [
      "418\n"
     ]
    }
   ],
   "source": [
    "submission_prediction = model.predict(test_data)\n",
    "\n",
    "submission = pd.DataFrame({\n",
    "    \"PassengerId\": list(range(892, 1310)),\n",
    "    \"Survived\": submission_prediction\n",
    "})\n",
    "print(len(submission))\n",
    "\n",
    "submission.to_csv(r'..\\submission1.csv', index=False)\n"
   ]
  },
  {
   "cell_type": "code",
   "execution_count": null,
   "metadata": {},
   "outputs": [],
   "source": []
  }
 ],
 "metadata": {
  "kernelspec": {
   "display_name": "Python 3",
   "language": "python",
   "name": "python3"
  },
  "language_info": {
   "codemirror_mode": {
    "name": "ipython",
    "version": 3
   },
   "file_extension": ".py",
   "mimetype": "text/x-python",
   "name": "python",
   "nbconvert_exporter": "python",
   "pygments_lexer": "ipython3",
   "version": "3.8.3"
  }
 },
 "nbformat": 4,
 "nbformat_minor": 4
}
